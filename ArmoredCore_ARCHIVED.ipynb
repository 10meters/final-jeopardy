{
  "nbformat": 4,
  "nbformat_minor": 0,
  "metadata": {
    "colab": {
      "provenance": [],
      "authorship_tag": "ABX9TyPnUJiGhKLEYFQEVouP9YgD",
      "include_colab_link": true
    },
    "kernelspec": {
      "name": "python3",
      "display_name": "Python 3"
    },
    "language_info": {
      "name": "python"
    }
  },
  "cells": [
    {
      "cell_type": "markdown",
      "metadata": {
        "id": "view-in-github",
        "colab_type": "text"
      },
      "source": [
        "<a href=\"https://colab.research.google.com/github/10meters/final-jeopardy/blob/main/ArmoredCore_ARCHIVED.ipynb\" target=\"_parent\"><img src=\"https://colab.research.google.com/assets/colab-badge.svg\" alt=\"Open In Colab\"/></a>"
      ]
    },
    {
      "cell_type": "code",
      "execution_count": 42,
      "metadata": {
        "id": "PBT8RCuvsmFm"
      },
      "outputs": [],
      "source": [
        "import random\n",
        "from tabulate import tabulate\n",
        "\n",
        "def attack (enemyCount, attackCount, enemyMod, Death, Evasion):\n",
        "  totalAttacks = enemyCount*attackCount\n",
        "\n",
        "  #Attack Rolls\n",
        "  attackRolls = [random.randint(1,2) for a in range (totalAttacks)]\n",
        "\n",
        "  ## Checking --> print(attackRolls)\n",
        "\n",
        "  #Evasion Rolls\n",
        "  myEvasion = [random.randint(1,10) + Evasion if attackRolls[b] == 1 else \"MISS\" for b in range(totalAttacks)]\n",
        "\n",
        "  ## Checking --> print(f\"My Rolls: {myEvasion}\")\n",
        "\n",
        "  #Enemy Accuracy\n",
        "  accuracyRolls = [random.randint(1,10) + enemyMod if attackRolls[c] == 1 else \"MISS\" for c in range(totalAttacks)]\n",
        "\n",
        "  ## Checking --> print(f\"Their Rolls: {accuracyRolls}\")\n",
        "\n",
        "  retaliate = [0]*enemyCount\n",
        "  hitsTaken = 0\n",
        "  defeated = 0\n",
        "\n",
        "  # Final Results\n",
        "  results = []\n",
        "  for d in range (totalAttacks):\n",
        "    enemyIndex = d // attackCount\n",
        "\n",
        "    # Check if the enemy is dead\n",
        "    if retaliate[enemyIndex] >= Death:\n",
        "      results.append(\"DEAD\")\n",
        "      continue\n",
        "\n",
        "    # Comparisons\n",
        "    if myEvasion[d] == \"MISS\":\n",
        "      results.append(\"MISS\")\n",
        "    elif myEvasion[d] >= accuracyRolls[d]+3:\n",
        "      results.append(\"COUNTER\")\n",
        "      retaliate[enemyIndex] += 1\n",
        "      # Lets you know that this thing is dead.\n",
        "      if retaliate[enemyIndex] >= Death:\n",
        "        defeated += 1\n",
        "    elif myEvasion[d] > accuracyRolls[d]:\n",
        "      results.append(\"EVADE\")\n",
        "    elif myEvasion[d] == accuracyRolls[d]:\n",
        "      results.append(\"BLOCK\")\n",
        "    else:\n",
        "      results.append(\"HIT\")\n",
        "      hitsTaken += 1\n",
        "\n",
        "  '''ARCHIVED!!!\n",
        "  groupedResults = [results[e:e+attackCount] for e in range(0, totalAttacks, attackCount)]\n",
        "  table(attackCount, groupedResults)'''\n",
        "\n",
        "  print(f\"Defeated Enemies: {defeated}\")\n",
        "  print(f\"Hits taken: {hitsTaken}\")"
      ]
    },
    {
      "cell_type": "code",
      "source": [
        "'''ARCHIVED!!!\n",
        "def table(attackCount, groupedResults):\n",
        "  header = [f\"Attack {f + 1}\" for f in range(attackCount)]\n",
        "  row_labels = [f\"Enemy {g + 1}\" for g in range(len(groupedResults))]\n",
        "\n",
        "  # Combine row labels with grouped results\n",
        "  table_data = []\n",
        "  for h, (label, row) in enumerate(zip(row_labels, groupedResults)):\n",
        "      table_data.append([label] + row)\n",
        "\n",
        "  #Add headers\n",
        "  table_data.insert(0,[\"\"] + header)\n",
        "\n",
        "  #Creating the table\n",
        "  table = tabulate(table_data, tablefmt=\"fancy_grid\")\n",
        "  print(table)'''"
      ],
      "metadata": {
        "id": "racm08Elbfn0"
      },
      "execution_count": null,
      "outputs": []
    },
    {
      "cell_type": "code",
      "source": [
        "# Note: Can be used when YOUR attacks are being contested by an enemy's evasion roll. See comments, else use as normal.\n",
        "\n",
        "# Set to 1, representing you.\n",
        "enemyCount = 1000\n",
        "\n",
        "# Your number of attacks\n",
        "attackCount = 1050\n",
        "\n",
        "# Your modifier\n",
        "enemyMod = 0\n",
        "\n",
        "# Enemy modifier\n",
        "Evasion = 0\n",
        "\n",
        "# Number of Hits Before Death\n",
        "Death = 5\n",
        "\n",
        "attack(enemyCount, attackCount, enemyMod, Death, Evasion)"
      ],
      "metadata": {
        "id": "2BJDU30VjWWT",
        "colab": {
          "base_uri": "https://localhost:8080/"
        },
        "outputId": "ec670ac5-ea6c-42ba-ddbf-8bc91e985547"
      },
      "execution_count": 46,
      "outputs": [
        {
          "output_type": "stream",
          "name": "stdout",
          "text": [
            "Defeated Enemies: 1000\n",
            "Hits taken: 7975\n"
          ]
        }
      ]
    },
    {
      "cell_type": "code",
      "source": [
        "def yourAttack(myAttackCount, sides, miss, fatal, accuracy):\n",
        "  #Initialize the variables\n",
        "  hit = 0\n",
        "  misses = 0\n",
        "  fatality = 0\n",
        "\n",
        "  #For every attack, make a roll and increase the counts.\n",
        "  for h in range(myAttackCount):\n",
        "    myRoll = random.randint(1, sides) - accuracy\n",
        "    if myRoll <= fatal:\n",
        "      fatality += 1\n",
        "    elif myRoll < miss:\n",
        "      hit += 1\n",
        "    else:\n",
        "      misses += 1\n",
        "\n",
        "  #Print Everything\n",
        "  print(f\"Hits: {hit}\")\n",
        "  print(f\"Misses: {misses}\")\n",
        "  print(f\"Fatalities: {fatality}\")"
      ],
      "metadata": {
        "id": "FRbf31eUuF5I"
      },
      "execution_count": null,
      "outputs": []
    },
    {
      "cell_type": "code",
      "source": [
        "myAttackCount = 100\n",
        "sides = 2\n",
        "accuracy = 0\n",
        "miss = 2\n",
        "fatal = 0\n",
        "\n",
        "yourAttack(myAttackCount, sides, miss, fatal, accuracy)"
      ],
      "metadata": {
        "colab": {
          "base_uri": "https://localhost:8080/"
        },
        "id": "KsIuAgUYjvhH",
        "outputId": "cb5c0183-e89c-4a22-c9cc-84f2b1d9198e"
      },
      "execution_count": null,
      "outputs": [
        {
          "output_type": "stream",
          "name": "stdout",
          "text": [
            "Hits: 45\n",
            "Misses: 55\n",
            "Fatalities: 0\n"
          ]
        }
      ]
    }
  ]
}